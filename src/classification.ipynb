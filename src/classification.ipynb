{
 "cells": [
  {
   "cell_type": "code",
   "execution_count": 7,
   "metadata": {},
   "outputs": [],
   "source": [
    "#importing the packages\n",
    "import numpy as np\n",
    "import matplotlib.pyplot as plt\n",
    "import pandas as pd"
   ]
  },
  {
   "cell_type": "code",
   "execution_count": 26,
   "metadata": {},
   "outputs": [
    {
     "data": {
      "text/html": [
       "<div>\n",
       "<style scoped>\n",
       "    .dataframe tbody tr th:only-of-type {\n",
       "        vertical-align: middle;\n",
       "    }\n",
       "\n",
       "    .dataframe tbody tr th {\n",
       "        vertical-align: top;\n",
       "    }\n",
       "\n",
       "    .dataframe thead th {\n",
       "        text-align: right;\n",
       "    }\n",
       "</style>\n",
       "<table border=\"1\" class=\"dataframe\">\n",
       "  <thead>\n",
       "    <tr style=\"text-align: right;\">\n",
       "      <th></th>\n",
       "      <th>Unnamed: 0</th>\n",
       "      <th>name</th>\n",
       "      <th>equake_near</th>\n",
       "      <th>material type</th>\n",
       "      <th>age of bridge</th>\n",
       "      <th>bridge type</th>\n",
       "      <th>magnitude</th>\n",
       "      <th>d to epicenter in miles</th>\n",
       "      <th>damaged</th>\n",
       "      <th>Damage level</th>\n",
       "    </tr>\n",
       "  </thead>\n",
       "  <tbody>\n",
       "    <tr>\n",
       "      <td>0</td>\n",
       "      <td>0</td>\n",
       "      <td>San Francisco-Oakland Bay Bridge, 1936</td>\n",
       "      <td>1989, Loma Prieta</td>\n",
       "      <td>I</td>\n",
       "      <td>53</td>\n",
       "      <td>III</td>\n",
       "      <td>6.9</td>\n",
       "      <td>59.9</td>\n",
       "      <td>1</td>\n",
       "      <td>0_0_1</td>\n",
       "    </tr>\n",
       "    <tr>\n",
       "      <td>1</td>\n",
       "      <td>1</td>\n",
       "      <td>San Francisco-Oakland Bay Bridge</td>\n",
       "      <td>Northern California</td>\n",
       "      <td>I</td>\n",
       "      <td>57</td>\n",
       "      <td>III</td>\n",
       "      <td>4.7</td>\n",
       "      <td>50.0</td>\n",
       "      <td>0</td>\n",
       "      <td>1_0_0</td>\n",
       "    </tr>\n",
       "    <tr>\n",
       "      <td>2</td>\n",
       "      <td>2</td>\n",
       "      <td>San Francisco-Oakland Bay Bridge</td>\n",
       "      <td>Bay Area</td>\n",
       "      <td>I</td>\n",
       "      <td>67</td>\n",
       "      <td>III</td>\n",
       "      <td>4.0</td>\n",
       "      <td>6.9</td>\n",
       "      <td>0</td>\n",
       "      <td>1_0_0</td>\n",
       "    </tr>\n",
       "    <tr>\n",
       "      <td>3</td>\n",
       "      <td>3</td>\n",
       "      <td>San Francisco-Oakland Bay Bridge</td>\n",
       "      <td>1km N of Piedmont</td>\n",
       "      <td>I</td>\n",
       "      <td>79</td>\n",
       "      <td>III</td>\n",
       "      <td>4.0</td>\n",
       "      <td>6.3</td>\n",
       "      <td>0</td>\n",
       "      <td>1_0_0</td>\n",
       "    </tr>\n",
       "    <tr>\n",
       "      <td>4</td>\n",
       "      <td>4</td>\n",
       "      <td>San Francisco-Oakland Bay Bridge</td>\n",
       "      <td>2km SE of Berkeley</td>\n",
       "      <td>I</td>\n",
       "      <td>82</td>\n",
       "      <td>III</td>\n",
       "      <td>4.4</td>\n",
       "      <td>5.4</td>\n",
       "      <td>0</td>\n",
       "      <td>1_0_0</td>\n",
       "    </tr>\n",
       "  </tbody>\n",
       "</table>\n",
       "</div>"
      ],
      "text/plain": [
       "   Unnamed: 0                                     name          equake_near  \\\n",
       "0           0  San Francisco-Oakland Bay Bridge, 1936     1989, Loma Prieta   \n",
       "1           1         San Francisco-Oakland Bay Bridge  Northern California   \n",
       "2           2         San Francisco-Oakland Bay Bridge             Bay Area   \n",
       "3           3         San Francisco-Oakland Bay Bridge    1km N of Piedmont   \n",
       "4           4         San Francisco-Oakland Bay Bridge   2km SE of Berkeley   \n",
       "\n",
       "  material type  age of bridge bridge type  magnitude  \\\n",
       "0             I             53         III        6.9   \n",
       "1             I             57         III        4.7   \n",
       "2             I             67         III        4.0   \n",
       "3             I             79         III        4.0   \n",
       "4             I             82         III        4.4   \n",
       "\n",
       "   d to epicenter in miles  damaged Damage level  \n",
       "0                     59.9        1        0_0_1  \n",
       "1                     50.0        0        1_0_0  \n",
       "2                      6.9        0        1_0_0  \n",
       "3                      6.3        0        1_0_0  \n",
       "4                      5.4        0        1_0_0  "
      ]
     },
     "execution_count": 26,
     "metadata": {},
     "output_type": "execute_result"
    }
   ],
   "source": [
    "#reading the dataset\n",
    "ds = pd.read_csv('../datasets/equake_clean.csv')\n",
    "ds.head()"
   ]
  },
  {
   "cell_type": "code",
   "execution_count": 27,
   "metadata": {},
   "outputs": [
    {
     "data": {
      "text/plain": [
       "0    228\n",
       "1     21\n",
       "Name: damaged, dtype: int64"
      ]
     },
     "execution_count": 27,
     "metadata": {},
     "output_type": "execute_result"
    }
   ],
   "source": [
    "ds['damaged'].value_counts()"
   ]
  },
  {
   "cell_type": "code",
   "execution_count": 28,
   "metadata": {},
   "outputs": [],
   "source": [
    "#selecting columns for classification\n",
    "X = ds.iloc[:, 3:-2].values\n",
    "y = ds.iloc[:, -2].values"
   ]
  },
  {
   "cell_type": "code",
   "execution_count": 29,
   "metadata": {
    "scrolled": true
   },
   "outputs": [
    {
     "name": "stdout",
     "output_type": "stream",
     "text": [
      "[['I' 53 'III' 6.9 59.9]\n",
      " ['I' 57 'III' 4.7 50.0]\n",
      " ['I' 67 'III' 4.0 6.9]\n",
      " ...\n",
      " ['I' 17 'I' 6.6 56.3]\n",
      " ['I' 53 'I' 4.5 26.6]\n",
      " ['I' 54 'I' 4.4 45.7]]\n"
     ]
    }
   ],
   "source": [
    "print(X)"
   ]
  },
  {
   "cell_type": "code",
   "execution_count": 30,
   "metadata": {},
   "outputs": [
    {
     "name": "stdout",
     "output_type": "stream",
     "text": [
      "[1 0 0 0 0 0 0 0 0 0 0 0 0 1 0 0 0 0 0 0 0 0 0 1 0 0 0 0 0 0 0 0 0 1 0 0 0\n",
      " 0 0 0 0 0 0 1 0 0 0 0 1 0 0 0 0 0 0 0 0 1 0 0 0 0 0 0 0 0 0 0 1 0 0 0 0 0\n",
      " 0 0 0 0 1 0 0 0 0 0 0 0 0 0 0 1 0 0 0 0 0 0 0 0 0 0 1 0 0 0 0 0 0 0 0 0 0\n",
      " 0 0 0 0 1 0 0 0 0 0 0 0 0 0 0 0 0 0 0 1 0 0 0 0 0 0 0 0 0 0 0 0 0 0 1 0 0\n",
      " 0 0 0 0 0 0 0 0 0 0 0 0 1 0 0 0 0 0 0 0 0 0 0 1 1 0 0 0 0 0 0 0 0 0 0 0 0\n",
      " 0 0 0 0 1 0 0 0 0 0 0 0 0 0 0 0 0 0 1 0 0 0 0 0 0 0 0 0 0 0 0 0 0 0 1 0 0\n",
      " 0 0 0 0 0 0 0 0 0 0 0 0 1 0 0 0 0 0 0 0 0 0 0 0 0 0 0]\n"
     ]
    }
   ],
   "source": [
    "print(y)"
   ]
  },
  {
   "cell_type": "code",
   "execution_count": 31,
   "metadata": {},
   "outputs": [
    {
     "name": "stdout",
     "output_type": "stream",
     "text": [
      "[[1.0 0.0 0.0 ... 53 6.9 59.9]\n",
      " [1.0 0.0 0.0 ... 57 4.7 50.0]\n",
      " [1.0 0.0 0.0 ... 67 4.0 6.9]\n",
      " ...\n",
      " [1.0 0.0 1.0 ... 17 6.6 56.3]\n",
      " [1.0 0.0 1.0 ... 53 4.5 26.6]\n",
      " [1.0 0.0 1.0 ... 54 4.4 45.7]]\n"
     ]
    }
   ],
   "source": [
    "from sklearn.compose import ColumnTransformer\n",
    "from sklearn.preprocessing import OneHotEncoder\n",
    "ct = ColumnTransformer(transformers=[('encoder', OneHotEncoder(), [0,2])], remainder='passthrough')\n",
    "X = np.array(ct.fit_transform(X))\n",
    "print(X)"
   ]
  },
  {
   "cell_type": "code",
   "execution_count": 32,
   "metadata": {},
   "outputs": [
    {
     "name": "stdout",
     "output_type": "stream",
     "text": [
      "[1 0 0 0 0 0 0 0 0 0 0 0 0 1 0 0 0 0 0 0 0 0 0 1 0 0 0 0 0 0 0 0 0 1 0 0 0\n",
      " 0 0 0 0 0 0 1 0 0 0 0 1 0 0 0 0 0 0 0 0 1 0 0 0 0 0 0 0 0 0 0 1 0 0 0 0 0\n",
      " 0 0 0 0 1 0 0 0 0 0 0 0 0 0 0 1 0 0 0 0 0 0 0 0 0 0 1 0 0 0 0 0 0 0 0 0 0\n",
      " 0 0 0 0 1 0 0 0 0 0 0 0 0 0 0 0 0 0 0 1 0 0 0 0 0 0 0 0 0 0 0 0 0 0 1 0 0\n",
      " 0 0 0 0 0 0 0 0 0 0 0 0 1 0 0 0 0 0 0 0 0 0 0 1 1 0 0 0 0 0 0 0 0 0 0 0 0\n",
      " 0 0 0 0 1 0 0 0 0 0 0 0 0 0 0 0 0 0 1 0 0 0 0 0 0 0 0 0 0 0 0 0 0 0 1 0 0\n",
      " 0 0 0 0 0 0 0 0 0 0 0 0 1 0 0 0 0 0 0 0 0 0 0 0 0 0 0]\n"
     ]
    }
   ],
   "source": [
    "from sklearn.preprocessing import LabelEncoder\n",
    "le = LabelEncoder()\n",
    "y = le.fit_transform(y)\n",
    "print(y)"
   ]
  },
  {
   "cell_type": "code",
   "execution_count": 33,
   "metadata": {},
   "outputs": [],
   "source": [
    "#splitting the dataset.\n",
    "from sklearn.model_selection import train_test_split\n",
    "X_train, X_test, y_train, y_test = train_test_split(X, y, test_size = 0.2, random_state = 1)"
   ]
  },
  {
   "cell_type": "code",
   "execution_count": 34,
   "metadata": {},
   "outputs": [],
   "source": [
    "#converting the quantity into scalar form.\n",
    "from sklearn.preprocessing import StandardScaler\n",
    "sc = StandardScaler()\n",
    "X_train = sc.fit_transform(X_train)\n",
    "X_test = sc.transform(X_test)"
   ]
  },
  {
   "cell_type": "code",
   "execution_count": 35,
   "metadata": {},
   "outputs": [
    {
     "name": "stdout",
     "output_type": "stream",
     "text": [
      "[[ 0.81992006 -0.81992006  0.57154761 ... -0.903155   -0.57932134\n",
      "  -0.44563327]\n",
      " [-1.21963109  1.21963109  0.57154761 ...  2.88899276 -0.57932134\n",
      "  -1.05252434]\n",
      " [ 0.81992006 -0.81992006 -1.74963553 ...  1.64157573 -1.2681037\n",
      "   0.86555114]\n",
      " ...\n",
      " [ 0.81992006 -0.81992006 -1.74963553 ... -1.00294836  0.28165661\n",
      "   0.43847965]\n",
      " [ 0.81992006 -0.81992006  0.57154761 ...  1.1925056  -0.66541914\n",
      "  -1.07125555]\n",
      " [-1.21963109  1.21963109  0.57154761 ... -0.00501474  1.40092794\n",
      "  -0.50931937]]\n"
     ]
    }
   ],
   "source": [
    "print(X_train)"
   ]
  },
  {
   "cell_type": "code",
   "execution_count": 36,
   "metadata": {},
   "outputs": [
    {
     "name": "stdout",
     "output_type": "stream",
     "text": [
      "[0 0 0 0 1 0 0 0 0 1 0 0 1 1 0 0 0 0 0 0 1 0 0 0 0 0 0 0 0 0 0 0 0 0 0 0 0\n",
      " 0 0 0 0 0 0 0 0 0 0 0 0 1 0 0 0 1 0 0 0 0 0 0 0 0 0 0 0 0 0 0 0 0 0 0 0 0\n",
      " 0 0 0 0 0 0 0 0 1 0 0 0 1 0 0 0 0 0 0 0 0 0 0 0 0 0 0 0 0 0 0 0 0 0 0 0 0\n",
      " 0 0 0 0 0 0 0 0 0 0 0 1 0 1 0 0 0 0 0 0 0 0 1 0 0 0 0 0 0 0 0 0 1 0 0 0 0\n",
      " 0 0 0 0 0 0 0 0 1 0 0 0 0 0 1 0 0 0 0 0 0 0 0 0 0 1 0 0 0 0 0 0 0 0 0 0 0\n",
      " 0 0 0 0 0 0 0 0 1 0 0 0 0 0]\n"
     ]
    }
   ],
   "source": [
    "print(y_train)"
   ]
  },
  {
   "cell_type": "code",
   "execution_count": 37,
   "metadata": {},
   "outputs": [],
   "source": [
    "#importing classification packages.\n",
    "from sklearn.linear_model import LogisticRegression\n",
    "from sklearn.tree import DecisionTreeClassifier\n",
    "from sklearn.neighbors import KNeighborsClassifier as KNN\n",
    "from sklearn.ensemble import VotingClassifier\n",
    "from sklearn.metrics import accuracy_score\n",
    "from sklearn.ensemble import RandomForestClassifier\n",
    "from sklearn.metrics import classification_report\n",
    "from xgboost import XGBClassifier\n",
    "\n",
    "SEED = 1"
   ]
  },
  {
   "cell_type": "code",
   "execution_count": 38,
   "metadata": {},
   "outputs": [],
   "source": [
    "#classification\n",
    "lr = LogisticRegression(random_state=SEED)\n",
    "knn = KNN()\n",
    "xg = XGBClassifier()\n",
    "dt = DecisionTreeClassifier(random_state=SEED)\n",
    "rf = RandomForestClassifier(random_state=SEED)\n",
    "\n",
    "# Define a list called classifier that contains the tuples (classifier_name, classifier)\n",
    "classifiers = [('Logistic Regression', lr),\n",
    "               ('K Nearest Neighbours', knn),\n",
    "               ('Classification Tree', dt),\n",
    "               ('Forest', rf),\n",
    "               ('XGB', xg)]"
   ]
  },
  {
   "cell_type": "code",
   "execution_count": 39,
   "metadata": {},
   "outputs": [
    {
     "name": "stdout",
     "output_type": "stream",
     "text": [
      "Logistic Regression :               precision    recall  f1-score   support\n",
      "\n",
      "           0       0.96      0.98      0.97        46\n",
      "           1       0.67      0.50      0.57         4\n",
      "\n",
      "    accuracy                           0.94        50\n",
      "   macro avg       0.81      0.74      0.77        50\n",
      "weighted avg       0.93      0.94      0.94        50\n",
      "\n",
      "K Nearest Neighbours :               precision    recall  f1-score   support\n",
      "\n",
      "           0       0.94      1.00      0.97        46\n",
      "           1       1.00      0.25      0.40         4\n",
      "\n",
      "    accuracy                           0.94        50\n",
      "   macro avg       0.97      0.62      0.68        50\n",
      "weighted avg       0.94      0.94      0.92        50\n",
      "\n",
      "Classification Tree :               precision    recall  f1-score   support\n",
      "\n",
      "           0       0.98      0.98      0.98        46\n",
      "           1       0.75      0.75      0.75         4\n",
      "\n",
      "    accuracy                           0.96        50\n",
      "   macro avg       0.86      0.86      0.86        50\n",
      "weighted avg       0.96      0.96      0.96        50\n",
      "\n",
      "Forest :               precision    recall  f1-score   support\n",
      "\n",
      "           0       0.96      0.98      0.97        46\n",
      "           1       0.67      0.50      0.57         4\n",
      "\n",
      "    accuracy                           0.94        50\n",
      "   macro avg       0.81      0.74      0.77        50\n",
      "weighted avg       0.93      0.94      0.94        50\n",
      "\n",
      "XGB :               precision    recall  f1-score   support\n",
      "\n",
      "           0       0.98      0.98      0.98        46\n",
      "           1       0.75      0.75      0.75         4\n",
      "\n",
      "    accuracy                           0.96        50\n",
      "   macro avg       0.86      0.86      0.86        50\n",
      "weighted avg       0.96      0.96      0.96        50\n",
      "\n"
     ]
    },
    {
     "name": "stderr",
     "output_type": "stream",
     "text": [
      "/opt/anaconda3/lib/python3.7/site-packages/sklearn/linear_model/logistic.py:432: FutureWarning: Default solver will be changed to 'lbfgs' in 0.22. Specify a solver to silence this warning.\n",
      "  FutureWarning)\n",
      "/opt/anaconda3/lib/python3.7/site-packages/sklearn/ensemble/forest.py:245: FutureWarning: The default value of n_estimators will change from 10 in version 0.20 to 100 in 0.22.\n",
      "  \"10 in version 0.20 to 100 in 0.22.\", FutureWarning)\n"
     ]
    }
   ],
   "source": [
    "# Iterate over the defined list of tuples containing the classifiers\n",
    "for clf_name, clf in classifiers:\n",
    "    #fit clf to the training set\n",
    "    clf.fit(X_train, y_train)\n",
    "    # Predict the labels of the test set\n",
    "    y_pred = clf.predict(X_test)\n",
    "    \n",
    "    print('{:s} : {:s}'.format(clf_name, classification_report(y_test, y_pred)))"
   ]
  },
  {
   "cell_type": "code",
   "execution_count": 40,
   "metadata": {},
   "outputs": [
    {
     "name": "stdout",
     "output_type": "stream",
     "text": [
      "Voting Classifier:               precision    recall  f1-score   support\n",
      "\n",
      "           0       0.96      0.98      0.97        46\n",
      "           1       0.67      0.50      0.57         4\n",
      "\n",
      "    accuracy                           0.94        50\n",
      "   macro avg       0.81      0.74      0.77        50\n",
      "weighted avg       0.93      0.94      0.94        50\n",
      "\n"
     ]
    },
    {
     "name": "stderr",
     "output_type": "stream",
     "text": [
      "/opt/anaconda3/lib/python3.7/site-packages/sklearn/linear_model/logistic.py:432: FutureWarning: Default solver will be changed to 'lbfgs' in 0.22. Specify a solver to silence this warning.\n",
      "  FutureWarning)\n"
     ]
    }
   ],
   "source": [
    "vc = VotingClassifier(estimators=classifiers)\n",
    "# Fit 'vc' to the traing set and predict test set labels\n",
    "vc.fit(X_train, y_train)\n",
    "y_pred = vc.predict(X_test)\n",
    "# Evaluate the test-set accuracy of 'vc'\n",
    "print('Voting Classifier: {:s}'.format(classification_report(y_test, y_pred)))"
   ]
  }
 ],
 "metadata": {
  "kernelspec": {
   "display_name": "Python 3",
   "language": "python",
   "name": "python3"
  },
  "language_info": {
   "codemirror_mode": {
    "name": "ipython",
    "version": 3
   },
   "file_extension": ".py",
   "mimetype": "text/x-python",
   "name": "python",
   "nbconvert_exporter": "python",
   "pygments_lexer": "ipython3",
   "version": "3.7.4"
  }
 },
 "nbformat": 4,
 "nbformat_minor": 4
}
