{
 "cells": [
  {
   "cell_type": "code",
   "execution_count": 44,
   "metadata": {},
   "outputs": [],
   "source": [
    "#importing the packages\n",
    "import numpy as np\n",
    "import matplotlib.pyplot as plt\n",
    "import pandas as pd"
   ]
  },
  {
   "cell_type": "code",
   "execution_count": 45,
   "metadata": {},
   "outputs": [
    {
     "data": {
      "text/html": [
       "<div>\n",
       "<style scoped>\n",
       "    .dataframe tbody tr th:only-of-type {\n",
       "        vertical-align: middle;\n",
       "    }\n",
       "\n",
       "    .dataframe tbody tr th {\n",
       "        vertical-align: top;\n",
       "    }\n",
       "\n",
       "    .dataframe thead th {\n",
       "        text-align: right;\n",
       "    }\n",
       "</style>\n",
       "<table border=\"1\" class=\"dataframe\">\n",
       "  <thead>\n",
       "    <tr style=\"text-align: right;\">\n",
       "      <th></th>\n",
       "      <th>Unnamed: 0</th>\n",
       "      <th>name</th>\n",
       "      <th>equake_near</th>\n",
       "      <th>material type</th>\n",
       "      <th>age of bridge</th>\n",
       "      <th>bridge type</th>\n",
       "      <th>magnitude</th>\n",
       "      <th>d to epicenter in miles</th>\n",
       "      <th>damaged</th>\n",
       "      <th>Damage level</th>\n",
       "    </tr>\n",
       "  </thead>\n",
       "  <tbody>\n",
       "    <tr>\n",
       "      <th>0</th>\n",
       "      <td>0</td>\n",
       "      <td>San Francisco-Oakland Bay Bridge, 1936</td>\n",
       "      <td>1989, Loma Prieta</td>\n",
       "      <td>I</td>\n",
       "      <td>53</td>\n",
       "      <td>III</td>\n",
       "      <td>6.9</td>\n",
       "      <td>59.9</td>\n",
       "      <td>1</td>\n",
       "      <td>0_0_1</td>\n",
       "    </tr>\n",
       "    <tr>\n",
       "      <th>1</th>\n",
       "      <td>1</td>\n",
       "      <td>San Francisco-Oakland Bay Bridge</td>\n",
       "      <td>Northern California</td>\n",
       "      <td>I</td>\n",
       "      <td>57</td>\n",
       "      <td>III</td>\n",
       "      <td>4.7</td>\n",
       "      <td>50.0</td>\n",
       "      <td>0</td>\n",
       "      <td>1_0_0</td>\n",
       "    </tr>\n",
       "    <tr>\n",
       "      <th>2</th>\n",
       "      <td>2</td>\n",
       "      <td>San Francisco-Oakland Bay Bridge</td>\n",
       "      <td>Bay Area</td>\n",
       "      <td>I</td>\n",
       "      <td>67</td>\n",
       "      <td>III</td>\n",
       "      <td>4.0</td>\n",
       "      <td>6.9</td>\n",
       "      <td>0</td>\n",
       "      <td>1_0_0</td>\n",
       "    </tr>\n",
       "    <tr>\n",
       "      <th>3</th>\n",
       "      <td>3</td>\n",
       "      <td>San Francisco-Oakland Bay Bridge</td>\n",
       "      <td>1km N of Piedmont</td>\n",
       "      <td>I</td>\n",
       "      <td>79</td>\n",
       "      <td>III</td>\n",
       "      <td>4.0</td>\n",
       "      <td>6.3</td>\n",
       "      <td>0</td>\n",
       "      <td>1_0_0</td>\n",
       "    </tr>\n",
       "    <tr>\n",
       "      <th>4</th>\n",
       "      <td>4</td>\n",
       "      <td>San Francisco-Oakland Bay Bridge</td>\n",
       "      <td>2km SE of Berkeley</td>\n",
       "      <td>I</td>\n",
       "      <td>82</td>\n",
       "      <td>III</td>\n",
       "      <td>4.4</td>\n",
       "      <td>5.4</td>\n",
       "      <td>0</td>\n",
       "      <td>1_0_0</td>\n",
       "    </tr>\n",
       "    <tr>\n",
       "      <th>...</th>\n",
       "      <td>...</td>\n",
       "      <td>...</td>\n",
       "      <td>...</td>\n",
       "      <td>...</td>\n",
       "      <td>...</td>\n",
       "      <td>...</td>\n",
       "      <td>...</td>\n",
       "      <td>...</td>\n",
       "      <td>...</td>\n",
       "      <td>...</td>\n",
       "    </tr>\n",
       "    <tr>\n",
       "      <th>244</th>\n",
       "      <td>244</td>\n",
       "      <td>Abukuma Bridge (Route 6), 1920</td>\n",
       "      <td>East Coast of Honshu</td>\n",
       "      <td>I</td>\n",
       "      <td>33</td>\n",
       "      <td>I</td>\n",
       "      <td>6.2</td>\n",
       "      <td>84.0</td>\n",
       "      <td>0</td>\n",
       "      <td>1_0_0</td>\n",
       "    </tr>\n",
       "    <tr>\n",
       "      <th>245</th>\n",
       "      <td>245</td>\n",
       "      <td>Abukuma Bridge (Route 6), 1920</td>\n",
       "      <td>East Coast of Honshu</td>\n",
       "      <td>I</td>\n",
       "      <td>50</td>\n",
       "      <td>I</td>\n",
       "      <td>6.4</td>\n",
       "      <td>90.6</td>\n",
       "      <td>0</td>\n",
       "      <td>1_0_0</td>\n",
       "    </tr>\n",
       "    <tr>\n",
       "      <th>246</th>\n",
       "      <td>246</td>\n",
       "      <td>Abukuma Bridge (Route 6), 1920</td>\n",
       "      <td>East Coast of Honshu</td>\n",
       "      <td>I</td>\n",
       "      <td>17</td>\n",
       "      <td>I</td>\n",
       "      <td>6.6</td>\n",
       "      <td>56.3</td>\n",
       "      <td>0</td>\n",
       "      <td>1_0_0</td>\n",
       "    </tr>\n",
       "    <tr>\n",
       "      <th>247</th>\n",
       "      <td>247</td>\n",
       "      <td>Abukuma Bridge (Route 6), 1920</td>\n",
       "      <td>East Coast of Honshu</td>\n",
       "      <td>I</td>\n",
       "      <td>53</td>\n",
       "      <td>I</td>\n",
       "      <td>4.5</td>\n",
       "      <td>26.6</td>\n",
       "      <td>0</td>\n",
       "      <td>1_0_0</td>\n",
       "    </tr>\n",
       "    <tr>\n",
       "      <th>248</th>\n",
       "      <td>248</td>\n",
       "      <td>Abukuma Bridge (Route 6), 1920</td>\n",
       "      <td>East Coast of Honshu</td>\n",
       "      <td>I</td>\n",
       "      <td>54</td>\n",
       "      <td>I</td>\n",
       "      <td>4.4</td>\n",
       "      <td>45.7</td>\n",
       "      <td>0</td>\n",
       "      <td>1_0_0</td>\n",
       "    </tr>\n",
       "  </tbody>\n",
       "</table>\n",
       "<p>249 rows × 10 columns</p>\n",
       "</div>"
      ],
      "text/plain": [
       "     Unnamed: 0                                     name  \\\n",
       "0             0  San Francisco-Oakland Bay Bridge, 1936    \n",
       "1             1         San Francisco-Oakland Bay Bridge   \n",
       "2             2         San Francisco-Oakland Bay Bridge   \n",
       "3             3         San Francisco-Oakland Bay Bridge   \n",
       "4             4         San Francisco-Oakland Bay Bridge   \n",
       "..          ...                                      ...   \n",
       "244         244           Abukuma Bridge (Route 6), 1920   \n",
       "245         245           Abukuma Bridge (Route 6), 1920   \n",
       "246         246           Abukuma Bridge (Route 6), 1920   \n",
       "247         247           Abukuma Bridge (Route 6), 1920   \n",
       "248         248           Abukuma Bridge (Route 6), 1920   \n",
       "\n",
       "              equake_near material type  age of bridge bridge type  magnitude  \\\n",
       "0       1989, Loma Prieta             I             53         III        6.9   \n",
       "1     Northern California             I             57         III        4.7   \n",
       "2                Bay Area             I             67         III        4.0   \n",
       "3       1km N of Piedmont             I             79         III        4.0   \n",
       "4      2km SE of Berkeley             I             82         III        4.4   \n",
       "..                    ...           ...            ...         ...        ...   \n",
       "244  East Coast of Honshu             I             33           I        6.2   \n",
       "245  East Coast of Honshu             I             50           I        6.4   \n",
       "246  East Coast of Honshu             I             17           I        6.6   \n",
       "247  East Coast of Honshu             I             53           I        4.5   \n",
       "248  East Coast of Honshu             I             54           I        4.4   \n",
       "\n",
       "     d to epicenter in miles  damaged Damage level  \n",
       "0                       59.9        1        0_0_1  \n",
       "1                       50.0        0        1_0_0  \n",
       "2                        6.9        0        1_0_0  \n",
       "3                        6.3        0        1_0_0  \n",
       "4                        5.4        0        1_0_0  \n",
       "..                       ...      ...          ...  \n",
       "244                     84.0        0        1_0_0  \n",
       "245                     90.6        0        1_0_0  \n",
       "246                     56.3        0        1_0_0  \n",
       "247                     26.6        0        1_0_0  \n",
       "248                     45.7        0        1_0_0  \n",
       "\n",
       "[249 rows x 10 columns]"
      ]
     },
     "execution_count": 45,
     "metadata": {},
     "output_type": "execute_result"
    }
   ],
   "source": [
    "#reading the dataset\n",
    "ds = pd.read_csv('../datasets/equake_clean.csv')\n",
    "ds"
   ]
  },
  {
   "cell_type": "code",
   "execution_count": null,
   "metadata": {},
   "outputs": [],
   "source": []
  },
  {
   "cell_type": "code",
   "execution_count": 46,
   "metadata": {},
   "outputs": [],
   "source": [
    "#selecting columns for classification\n",
    "X = ds.iloc[:, 3:-1].values\n",
    "y = ds.iloc[:, -1].values"
   ]
  },
  {
   "cell_type": "code",
   "execution_count": 47,
   "metadata": {
    "scrolled": true
   },
   "outputs": [
    {
     "name": "stdout",
     "output_type": "stream",
     "text": [
      "[['I' 53 'III' 6.9 59.9 1]\n",
      " ['I' 57 'III' 4.7 50.0 0]\n",
      " ['I' 67 'III' 4.0 6.9 0]\n",
      " ...\n",
      " ['I' 17 'I' 6.6 56.3 0]\n",
      " ['I' 53 'I' 4.5 26.6 0]\n",
      " ['I' 54 'I' 4.4 45.7 0]]\n"
     ]
    }
   ],
   "source": [
    "print(X)"
   ]
  },
  {
   "cell_type": "code",
   "execution_count": 48,
   "metadata": {},
   "outputs": [
    {
     "name": "stdout",
     "output_type": "stream",
     "text": [
      "['0_0_1' '1_0_0' '1_0_0' '1_0_0' '1_0_0' '1_0_0' '1_0_0' '1_0_0' '1_0_0'\n",
      " '1_0_0' '1_0_0' '1_0_0' '1_0_0' '0_0_1' '1_0_0' '1_0_0' '1_0_0' '1_0_0'\n",
      " '1_0_0' '1_0_0' '1_0_0' '1_0_0' '1_0_0' '0_0_1' '1_0_0' '1_0_0' '1_0_0'\n",
      " '1_0_0' '1_0_0' '1_0_0' '1_0_0' '1_0_0' '1_0_0' '0_1_0' '1_0_0' '1_0_0'\n",
      " '1_0_0' '1_0_0' '1_0_0' '1_0_0' '1_0_0' '1_0_0' '1_0_0' '0_0_1' '1_0_0'\n",
      " '1_0_0' '1_0_0' '1_0_0' '0_1_0' '1_0_0' '1_0_0' '1_0_0' '1_0_0' '1_0_0'\n",
      " '1_0_0' '1_0_0' '1_0_0' '0_0_1' '1_0_0' '1_0_0' '1_0_0' '1_0_0' '1_0_0'\n",
      " '1_0_0' '1_0_0' '1_0_0' '1_0_0' '1_0_0' '0_0_1' '1_0_0' '1_0_0' '1_0_0'\n",
      " '1_0_0' '1_0_0' '1_0_0' '1_0_0' '1_0_0' '1_0_0' '0_0_1' '1_0_0' '1_0_0'\n",
      " '1_0_0' '1_0_0' '1_0_0' '1_0_0' '1_0_0' '1_0_0' '1_0_0' '1_0_0' '0_0_1'\n",
      " '1_0_0' '1_0_0' '1_0_0' '1_0_0' '1_0_0' '1_0_0' '1_0_0' '1_0_0' '1_0_0'\n",
      " '1_0_0' '0_0_1' '1_0_0' '1_0_0' '1_0_0' '1_0_0' '1_0_0' '1_0_0' '1_0_0'\n",
      " '1_0_0' '1_0_0' '1_0_0' '1_0_0' '1_0_0' '1_0_0' '1_0_0' '0_0_1' '1_0_0'\n",
      " '1_0_0' '1_0_0' '1_0_0' '1_0_0' '1_0_0' '1_0_0' '1_0_0' '1_0_0' '1_0_0'\n",
      " '1_0_0' '1_0_0' '1_0_0' '1_0_0' '0_1_0' '1_0_0' '1_0_0' '1_0_0' '1_0_0'\n",
      " '1_0_0' '1_0_0' '1_0_0' '1_0_0' '1_0_0' '1_0_0' '1_0_0' '1_0_0' '1_0_0'\n",
      " '1_0_0' '0_1_0' '1_0_0' '1_0_0' '1_0_0' '1_0_0' '1_0_0' '1_0_0' '1_0_0'\n",
      " '1_0_0' '1_0_0' '1_0_0' '1_0_0' '1_0_0' '1_0_0' '1_0_0' '0_1_0' '1_0_0'\n",
      " '1_0_0' '1_0_0' '1_0_0' '1_0_0' '1_0_0' '1_0_0' '1_0_0' '1_0_0' '1_0_0'\n",
      " '0_1_0' '0_1_0' '1_0_0' '1_0_0' '1_0_0' '1_0_0' '1_0_0' '1_0_0' '1_0_0'\n",
      " '1_0_0' '1_0_0' '1_0_0' '1_0_0' '1_0_0' '1_0_0' '1_0_0' '1_0_0' '1_0_0'\n",
      " '0_1_0' '1_0_0' '1_0_0' '1_0_0' '1_0_0' '1_0_0' '1_0_0' '1_0_0' '1_0_0'\n",
      " '1_0_0' '1_0_0' '1_0_0' '1_0_0' '1_0_0' '0_1_0' '1_0_0' '1_0_0' '1_0_0'\n",
      " '1_0_0' '1_0_0' '1_0_0' '1_0_0' '1_0_0' '1_0_0' '1_0_0' '1_0_0' '1_0_0'\n",
      " '1_0_0' '1_0_0' '1_0_0' '0_1_0' '1_0_0' '1_0_0' '1_0_0' '1_0_0' '1_0_0'\n",
      " '1_0_0' '1_0_0' '1_0_0' '1_0_0' '1_0_0' '1_0_0' '1_0_0' '1_0_0' '1_0_0'\n",
      " '0_1_0' '1_0_0' '1_0_0' '1_0_0' '1_0_0' '1_0_0' '1_0_0' '1_0_0' '1_0_0'\n",
      " '1_0_0' '1_0_0' '1_0_0' '1_0_0' '1_0_0' '1_0_0']\n"
     ]
    }
   ],
   "source": [
    "print(y)"
   ]
  },
  {
   "cell_type": "code",
   "execution_count": 49,
   "metadata": {},
   "outputs": [
    {
     "name": "stdout",
     "output_type": "stream",
     "text": [
      "[[1.0 0.0 0.0 ... 6.9 59.9 1]\n",
      " [1.0 0.0 0.0 ... 4.7 50.0 0]\n",
      " [1.0 0.0 0.0 ... 4.0 6.9 0]\n",
      " ...\n",
      " [1.0 0.0 1.0 ... 6.6 56.3 0]\n",
      " [1.0 0.0 1.0 ... 4.5 26.6 0]\n",
      " [1.0 0.0 1.0 ... 4.4 45.7 0]]\n"
     ]
    }
   ],
   "source": [
    "from sklearn.compose import ColumnTransformer\n",
    "from sklearn.preprocessing import OneHotEncoder\n",
    "ct = ColumnTransformer(transformers=[('encoder', OneHotEncoder(), [0,2])], remainder='passthrough')\n",
    "X = np.array(ct.fit_transform(X))\n",
    "print(X)"
   ]
  },
  {
   "cell_type": "code",
   "execution_count": 50,
   "metadata": {},
   "outputs": [
    {
     "name": "stdout",
     "output_type": "stream",
     "text": [
      "[0 2 2 2 2 2 2 2 2 2 2 2 2 0 2 2 2 2 2 2 2 2 2 0 2 2 2 2 2 2 2 2 2 1 2 2 2\n",
      " 2 2 2 2 2 2 0 2 2 2 2 1 2 2 2 2 2 2 2 2 0 2 2 2 2 2 2 2 2 2 2 0 2 2 2 2 2\n",
      " 2 2 2 2 0 2 2 2 2 2 2 2 2 2 2 0 2 2 2 2 2 2 2 2 2 2 0 2 2 2 2 2 2 2 2 2 2\n",
      " 2 2 2 2 0 2 2 2 2 2 2 2 2 2 2 2 2 2 2 1 2 2 2 2 2 2 2 2 2 2 2 2 2 2 1 2 2\n",
      " 2 2 2 2 2 2 2 2 2 2 2 2 1 2 2 2 2 2 2 2 2 2 2 1 1 2 2 2 2 2 2 2 2 2 2 2 2\n",
      " 2 2 2 2 1 2 2 2 2 2 2 2 2 2 2 2 2 2 1 2 2 2 2 2 2 2 2 2 2 2 2 2 2 2 1 2 2\n",
      " 2 2 2 2 2 2 2 2 2 2 2 2 1 2 2 2 2 2 2 2 2 2 2 2 2 2 2]\n"
     ]
    }
   ],
   "source": [
    "from sklearn.preprocessing import LabelEncoder\n",
    "le = LabelEncoder()\n",
    "y = le.fit_transform(y)\n",
    "print(y)"
   ]
  },
  {
   "cell_type": "code",
   "execution_count": 51,
   "metadata": {},
   "outputs": [],
   "source": [
    "#splitting the dataset.\n",
    "from sklearn.model_selection import train_test_split\n",
    "X_train, X_test, y_train, y_test = train_test_split(X, y, test_size = 0.2, random_state = 1)"
   ]
  },
  {
   "cell_type": "code",
   "execution_count": 52,
   "metadata": {},
   "outputs": [],
   "source": [
    "#converting the quantity into scalar form.\n",
    "from sklearn.preprocessing import StandardScaler\n",
    "sc = StandardScaler()\n",
    "X_train = sc.fit_transform(X_train)\n",
    "X_test = sc.transform(X_test)"
   ]
  },
  {
   "cell_type": "code",
   "execution_count": 53,
   "metadata": {},
   "outputs": [
    {
     "name": "stdout",
     "output_type": "stream",
     "text": [
      "[[ 0.81992006 -0.81992006  0.57154761 ... -0.57932134 -0.44563327\n",
      "  -0.30562492]\n",
      " [-1.21963109  1.21963109  0.57154761 ... -0.57932134 -1.05252434\n",
      "  -0.30562492]\n",
      " [ 0.81992006 -0.81992006 -1.74963553 ... -1.2681037   0.86555114\n",
      "  -0.30562492]\n",
      " ...\n",
      " [ 0.81992006 -0.81992006 -1.74963553 ...  0.28165661  0.43847965\n",
      "  -0.30562492]\n",
      " [ 0.81992006 -0.81992006  0.57154761 ... -0.66541914 -1.07125555\n",
      "  -0.30562492]\n",
      " [-1.21963109  1.21963109  0.57154761 ...  1.40092794 -0.50931937\n",
      "  -0.30562492]]\n"
     ]
    }
   ],
   "source": [
    "print(X_train)"
   ]
  },
  {
   "cell_type": "code",
   "execution_count": 54,
   "metadata": {},
   "outputs": [
    {
     "name": "stdout",
     "output_type": "stream",
     "text": [
      "[2 2 2 2 1 2 2 2 2 1 2 2 1 1 2 2 2 2 2 2 0 2 2 2 2 2 2 2 2 2 2 2 2 2 2 2 2\n",
      " 2 2 2 2 2 2 2 2 2 2 2 2 1 2 2 2 1 2 2 2 2 2 2 2 2 2 2 2 2 2 2 2 2 2 2 2 2\n",
      " 2 2 2 2 2 2 2 2 0 2 2 2 1 2 2 2 2 2 2 2 2 2 2 2 2 2 2 2 2 2 2 2 2 2 2 2 2\n",
      " 2 2 2 2 2 2 2 2 2 2 2 0 2 0 2 2 2 2 2 2 2 2 1 2 2 2 2 2 2 2 2 2 0 2 2 2 2\n",
      " 2 2 2 2 2 2 2 2 0 2 2 2 2 2 0 2 2 2 2 2 2 2 2 2 2 0 2 2 2 2 2 2 2 2 2 2 2\n",
      " 2 2 2 2 2 2 2 2 1 2 2 2 2 2]\n"
     ]
    }
   ],
   "source": [
    "print(y_train)"
   ]
  },
  {
   "cell_type": "code",
   "execution_count": 55,
   "metadata": {},
   "outputs": [],
   "source": [
    "#importing classification packages.\n",
    "from sklearn.linear_model import LogisticRegression\n",
    "from sklearn.tree import DecisionTreeClassifier\n",
    "from sklearn.neighbors import KNeighborsClassifier as KNN\n",
    "from sklearn.ensemble import VotingClassifier\n",
    "from sklearn.metrics import accuracy_score\n",
    "from sklearn.ensemble import RandomForestClassifier\n",
    "from sklearn.metrics import classification_report\n",
    "from xgboost import XGBClassifier\n",
    "\n",
    "SEED = 1"
   ]
  },
  {
   "cell_type": "code",
   "execution_count": 56,
   "metadata": {},
   "outputs": [],
   "source": [
    "#classification\n",
    "lr = LogisticRegression(random_state=SEED)\n",
    "knn = KNN()\n",
    "xg = XGBClassifier()\n",
    "dt = DecisionTreeClassifier(random_state=SEED)\n",
    "rf = RandomForestClassifier(random_state=SEED)\n",
    "\n",
    "# Define a list called classifier that contains the tuples (classifier_name, classifier)\n",
    "classifiers = [('Logistic Regression', lr),\n",
    "               ('K Nearest Neighbours', knn),\n",
    "               ('Classification Tree', dt),\n",
    "               ('Forest', rf),\n",
    "               ('XGB', xg)]"
   ]
  },
  {
   "cell_type": "code",
   "execution_count": 57,
   "metadata": {},
   "outputs": [
    {
     "name": "stdout",
     "output_type": "stream",
     "text": [
      "Logistic Regression :               precision    recall  f1-score   support\n",
      "\n",
      "           0       0.00      0.00      0.00         2\n",
      "           1       0.33      0.50      0.40         2\n",
      "           2       1.00      1.00      1.00        46\n",
      "\n",
      "    accuracy                           0.94        50\n",
      "   macro avg       0.44      0.50      0.47        50\n",
      "weighted avg       0.93      0.94      0.94        50\n",
      "\n",
      "K Nearest Neighbours :               precision    recall  f1-score   support\n",
      "\n",
      "           0       0.50      0.50      0.50         2\n",
      "           1       1.00      0.50      0.67         2\n",
      "           2       0.98      1.00      0.99        46\n",
      "\n",
      "    accuracy                           0.96        50\n",
      "   macro avg       0.83      0.67      0.72        50\n",
      "weighted avg       0.96      0.96      0.96        50\n",
      "\n",
      "Classification Tree :               precision    recall  f1-score   support\n",
      "\n",
      "           0       0.33      0.50      0.40         2\n",
      "           1       0.00      0.00      0.00         2\n",
      "           2       1.00      1.00      1.00        46\n",
      "\n",
      "    accuracy                           0.94        50\n",
      "   macro avg       0.44      0.50      0.47        50\n",
      "weighted avg       0.93      0.94      0.94        50\n",
      "\n",
      "Forest :               precision    recall  f1-score   support\n",
      "\n",
      "           0       0.00      0.00      0.00         2\n",
      "           1       0.00      0.00      0.00         2\n",
      "           2       1.00      1.00      1.00        46\n",
      "\n",
      "    accuracy                           0.92        50\n",
      "   macro avg       0.33      0.33      0.33        50\n",
      "weighted avg       0.92      0.92      0.92        50\n",
      "\n",
      "XGB :               precision    recall  f1-score   support\n",
      "\n",
      "           0       0.33      0.50      0.40         2\n",
      "           1       0.00      0.00      0.00         2\n",
      "           2       1.00      1.00      1.00        46\n",
      "\n",
      "    accuracy                           0.94        50\n",
      "   macro avg       0.44      0.50      0.47        50\n",
      "weighted avg       0.93      0.94      0.94        50\n",
      "\n"
     ]
    }
   ],
   "source": [
    "# Iterate over the defined list of tuples containing the classifiers\n",
    "for clf_name, clf in classifiers:\n",
    "    #fit clf to the training set\n",
    "    clf.fit(X_train, y_train)\n",
    "    # Predict the labels of the test set\n",
    "    y_pred = clf.predict(X_test)\n",
    "    \n",
    "    print('{:s} : {:s}'.format(clf_name, classification_report(y_test, y_pred)))"
   ]
  },
  {
   "cell_type": "code",
   "execution_count": 58,
   "metadata": {},
   "outputs": [
    {
     "name": "stdout",
     "output_type": "stream",
     "text": [
      "Voting Classifier:               precision    recall  f1-score   support\n",
      "\n",
      "           0       0.33      0.50      0.40         2\n",
      "           1       0.00      0.00      0.00         2\n",
      "           2       1.00      1.00      1.00        46\n",
      "\n",
      "    accuracy                           0.94        50\n",
      "   macro avg       0.44      0.50      0.47        50\n",
      "weighted avg       0.93      0.94      0.94        50\n",
      "\n"
     ]
    }
   ],
   "source": [
    "vc = VotingClassifier(estimators=classifiers)\n",
    "# Fit 'vc' to the traing set and predict test set labels\n",
    "vc.fit(X_train, y_train)\n",
    "y_pred = vc.predict(X_test)\n",
    "# Evaluate the test-set accuracy of 'vc'\n",
    "print('Voting Classifier: {:s}'.format(classification_report(y_test, y_pred)))"
   ]
  },
  {
   "cell_type": "code",
   "execution_count": null,
   "metadata": {},
   "outputs": [],
   "source": []
  }
 ],
 "metadata": {
  "kernelspec": {
   "display_name": "Python 3",
   "language": "python",
   "name": "python3"
  },
  "language_info": {
   "codemirror_mode": {
    "name": "ipython",
    "version": 3
   },
   "file_extension": ".py",
   "mimetype": "text/x-python",
   "name": "python",
   "nbconvert_exporter": "python",
   "pygments_lexer": "ipython3",
   "version": "3.7.6"
  }
 },
 "nbformat": 4,
 "nbformat_minor": 4
}
