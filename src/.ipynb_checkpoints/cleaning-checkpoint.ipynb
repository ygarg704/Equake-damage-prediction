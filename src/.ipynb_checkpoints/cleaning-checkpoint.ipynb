{
 "cells": [
  {
   "cell_type": "code",
   "execution_count": 18,
   "metadata": {},
   "outputs": [],
   "source": [
    "import numpy as np\n",
    "import matplotlib.pyplot as plt\n",
    "import pandas as pd"
   ]
  },
  {
   "cell_type": "code",
   "execution_count": 19,
   "metadata": {},
   "outputs": [
    {
     "name": "stdout",
     "output_type": "stream",
     "text": [
      "<class 'pandas.core.frame.DataFrame'>\n",
      "RangeIndex: 249 entries, 0 to 248\n",
      "Data columns (total 15 columns):\n",
      " #   Column                              Non-Null Count  Dtype  \n",
      "---  ------                              --------------  -----  \n",
      " 0   Name of the bridge                  249 non-null    object \n",
      " 1   Earthquake                          249 non-null    object \n",
      " 2   x1 = Material Type                  249 non-null    object \n",
      " 3   x2 = Age (yr)                       249 non-null    int64  \n",
      " 4   x3 = Bridge Type                    249 non-null    object \n",
      " 5   x4 = Earthquake Magnitude           249 non-null    float64\n",
      " 6   x5 = Distance to epicenter (miles)  249 non-null    float64\n",
      " 7   y1 = Damaged or not?                249 non-null    int64  \n",
      " 8   y2 = Damage Level                   249 non-null    object \n",
      " 9   Unnamed: 9                          0 non-null      float64\n",
      " 10  Unnamed: 10                         0 non-null      float64\n",
      " 11  Unnamed: 11                         0 non-null      float64\n",
      " 12  Unnamed: 12                         0 non-null      float64\n",
      " 13  Unnamed: 13                         0 non-null      float64\n",
      " 14  Unnamed: 14                         0 non-null      float64\n",
      "dtypes: float64(8), int64(2), object(5)\n",
      "memory usage: 29.3+ KB\n"
     ]
    }
   ],
   "source": [
    "ds = pd.read_csv('../datasets/equake.csv')\n",
    "ds.info()"
   ]
  },
  {
   "cell_type": "code",
   "execution_count": 20,
   "metadata": {},
   "outputs": [],
   "source": [
    "ds.columns = ['name', 'equake_near', 'material type', 'age of bridge', 'bridge type', 'magnitude', 'd to epicenter in miles', 'damaged', 'damage level', 'y', 'u', 'i', 'q', 'a', 's']"
   ]
  },
  {
   "cell_type": "code",
   "execution_count": 21,
   "metadata": {},
   "outputs": [],
   "source": [
    "ds.drop(['y', 'u', 'i', 'q', 'a', 's'], axis=1, inplace=True)"
   ]
  },
  {
   "cell_type": "code",
   "execution_count": 22,
   "metadata": {},
   "outputs": [
    {
     "data": {
      "text/html": [
       "<div>\n",
       "<style scoped>\n",
       "    .dataframe tbody tr th:only-of-type {\n",
       "        vertical-align: middle;\n",
       "    }\n",
       "\n",
       "    .dataframe tbody tr th {\n",
       "        vertical-align: top;\n",
       "    }\n",
       "\n",
       "    .dataframe thead th {\n",
       "        text-align: right;\n",
       "    }\n",
       "</style>\n",
       "<table border=\"1\" class=\"dataframe\">\n",
       "  <thead>\n",
       "    <tr style=\"text-align: right;\">\n",
       "      <th></th>\n",
       "      <th>name</th>\n",
       "      <th>equake_near</th>\n",
       "      <th>material type</th>\n",
       "      <th>age of bridge</th>\n",
       "      <th>bridge type</th>\n",
       "      <th>magnitude</th>\n",
       "      <th>d to epicenter in miles</th>\n",
       "      <th>damaged</th>\n",
       "      <th>damage level</th>\n",
       "    </tr>\n",
       "  </thead>\n",
       "  <tbody>\n",
       "    <tr>\n",
       "      <th>0</th>\n",
       "      <td>San Francisco-Oakland Bay Bridge, 1936</td>\n",
       "      <td>1989, Loma Prieta</td>\n",
       "      <td>I</td>\n",
       "      <td>53</td>\n",
       "      <td>III</td>\n",
       "      <td>6.9</td>\n",
       "      <td>59.9</td>\n",
       "      <td>1</td>\n",
       "      <td>III</td>\n",
       "    </tr>\n",
       "    <tr>\n",
       "      <th>1</th>\n",
       "      <td>San Francisco-Oakland Bay Bridge</td>\n",
       "      <td>Northern California</td>\n",
       "      <td>I</td>\n",
       "      <td>57</td>\n",
       "      <td>III</td>\n",
       "      <td>4.7</td>\n",
       "      <td>50.0</td>\n",
       "      <td>0</td>\n",
       "      <td>I</td>\n",
       "    </tr>\n",
       "    <tr>\n",
       "      <th>2</th>\n",
       "      <td>San Francisco-Oakland Bay Bridge</td>\n",
       "      <td>Bay Area</td>\n",
       "      <td>I</td>\n",
       "      <td>67</td>\n",
       "      <td>III</td>\n",
       "      <td>4.0</td>\n",
       "      <td>6.9</td>\n",
       "      <td>0</td>\n",
       "      <td>I</td>\n",
       "    </tr>\n",
       "    <tr>\n",
       "      <th>3</th>\n",
       "      <td>San Francisco-Oakland Bay Bridge</td>\n",
       "      <td>1km N of Piedmont</td>\n",
       "      <td>I</td>\n",
       "      <td>79</td>\n",
       "      <td>III</td>\n",
       "      <td>4.0</td>\n",
       "      <td>6.3</td>\n",
       "      <td>0</td>\n",
       "      <td>I</td>\n",
       "    </tr>\n",
       "    <tr>\n",
       "      <th>4</th>\n",
       "      <td>San Francisco-Oakland Bay Bridge</td>\n",
       "      <td>2km SE of Berkeley</td>\n",
       "      <td>I</td>\n",
       "      <td>82</td>\n",
       "      <td>III</td>\n",
       "      <td>4.4</td>\n",
       "      <td>5.4</td>\n",
       "      <td>0</td>\n",
       "      <td>I</td>\n",
       "    </tr>\n",
       "  </tbody>\n",
       "</table>\n",
       "</div>"
      ],
      "text/plain": [
       "                                      name          equake_near material type  \\\n",
       "0  San Francisco-Oakland Bay Bridge, 1936     1989, Loma Prieta             I   \n",
       "1         San Francisco-Oakland Bay Bridge  Northern California             I   \n",
       "2         San Francisco-Oakland Bay Bridge             Bay Area             I   \n",
       "3         San Francisco-Oakland Bay Bridge    1km N of Piedmont             I   \n",
       "4         San Francisco-Oakland Bay Bridge   2km SE of Berkeley             I   \n",
       "\n",
       "   age of bridge bridge type  magnitude  d to epicenter in miles  damaged  \\\n",
       "0             53         III        6.9                     59.9        1   \n",
       "1             57         III        4.7                     50.0        0   \n",
       "2             67         III        4.0                      6.9        0   \n",
       "3             79         III        4.0                      6.3        0   \n",
       "4             82         III        4.4                      5.4        0   \n",
       "\n",
       "  damage level  \n",
       "0          III  \n",
       "1            I  \n",
       "2            I  \n",
       "3            I  \n",
       "4            I  "
      ]
     },
     "execution_count": 22,
     "metadata": {},
     "output_type": "execute_result"
    }
   ],
   "source": [
    "ds.head()"
   ]
  },
  {
   "cell_type": "code",
   "execution_count": 23,
   "metadata": {},
   "outputs": [],
   "source": [
    "ds_damage = pd.get_dummies(ds['damage level'])\n",
    "ds = pd.concat([ds, ds_damage], axis = 1)\n",
    "ds.drop(['damage level'], axis=1, inplace=True)\n",
    "ds.head()\n",
    "ds.to_csv('../datasets/equake_clean.csv')"
   ]
  }
 ],
 "metadata": {
  "kernelspec": {
   "display_name": "Python 3",
   "language": "python",
   "name": "python3"
  },
  "language_info": {
   "codemirror_mode": {
    "name": "ipython",
    "version": 3
   },
   "file_extension": ".py",
   "mimetype": "text/x-python",
   "name": "python",
   "nbconvert_exporter": "python",
   "pygments_lexer": "ipython3",
   "version": "3.7.6"
  }
 },
 "nbformat": 4,
 "nbformat_minor": 4
}
