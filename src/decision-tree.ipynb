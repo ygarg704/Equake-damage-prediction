{
 "cells": [
  {
   "cell_type": "code",
   "execution_count": 18,
   "metadata": {},
   "outputs": [],
   "source": [
    "import numpy as np\n",
    "import matplotlib.pyplot as plt\n",
    "import pandas as pd"
   ]
  },
  {
   "cell_type": "code",
   "execution_count": 19,
   "metadata": {},
   "outputs": [
    {
     "data": {
      "text/html": [
       "<div>\n",
       "<style scoped>\n",
       "    .dataframe tbody tr th:only-of-type {\n",
       "        vertical-align: middle;\n",
       "    }\n",
       "\n",
       "    .dataframe tbody tr th {\n",
       "        vertical-align: top;\n",
       "    }\n",
       "\n",
       "    .dataframe thead th {\n",
       "        text-align: right;\n",
       "    }\n",
       "</style>\n",
       "<table border=\"1\" class=\"dataframe\">\n",
       "  <thead>\n",
       "    <tr style=\"text-align: right;\">\n",
       "      <th></th>\n",
       "      <th>Unnamed: 0</th>\n",
       "      <th>name</th>\n",
       "      <th>equake_near</th>\n",
       "      <th>material type</th>\n",
       "      <th>age of bridge</th>\n",
       "      <th>bridge type</th>\n",
       "      <th>magnitude</th>\n",
       "      <th>d to epicenter in miles</th>\n",
       "      <th>damaged</th>\n",
       "      <th>I</th>\n",
       "      <th>II</th>\n",
       "      <th>III</th>\n",
       "    </tr>\n",
       "  </thead>\n",
       "  <tbody>\n",
       "    <tr>\n",
       "      <th>0</th>\n",
       "      <td>0</td>\n",
       "      <td>San Francisco-Oakland Bay Bridge, 1936</td>\n",
       "      <td>1989, Loma Prieta</td>\n",
       "      <td>I</td>\n",
       "      <td>53</td>\n",
       "      <td>III</td>\n",
       "      <td>6.9</td>\n",
       "      <td>59.9</td>\n",
       "      <td>1</td>\n",
       "      <td>0</td>\n",
       "      <td>0</td>\n",
       "      <td>1</td>\n",
       "    </tr>\n",
       "    <tr>\n",
       "      <th>1</th>\n",
       "      <td>1</td>\n",
       "      <td>San Francisco-Oakland Bay Bridge</td>\n",
       "      <td>Northern California</td>\n",
       "      <td>I</td>\n",
       "      <td>57</td>\n",
       "      <td>III</td>\n",
       "      <td>4.7</td>\n",
       "      <td>50.0</td>\n",
       "      <td>0</td>\n",
       "      <td>1</td>\n",
       "      <td>0</td>\n",
       "      <td>0</td>\n",
       "    </tr>\n",
       "    <tr>\n",
       "      <th>2</th>\n",
       "      <td>2</td>\n",
       "      <td>San Francisco-Oakland Bay Bridge</td>\n",
       "      <td>Bay Area</td>\n",
       "      <td>I</td>\n",
       "      <td>67</td>\n",
       "      <td>III</td>\n",
       "      <td>4.0</td>\n",
       "      <td>6.9</td>\n",
       "      <td>0</td>\n",
       "      <td>1</td>\n",
       "      <td>0</td>\n",
       "      <td>0</td>\n",
       "    </tr>\n",
       "    <tr>\n",
       "      <th>3</th>\n",
       "      <td>3</td>\n",
       "      <td>San Francisco-Oakland Bay Bridge</td>\n",
       "      <td>1km N of Piedmont</td>\n",
       "      <td>I</td>\n",
       "      <td>79</td>\n",
       "      <td>III</td>\n",
       "      <td>4.0</td>\n",
       "      <td>6.3</td>\n",
       "      <td>0</td>\n",
       "      <td>1</td>\n",
       "      <td>0</td>\n",
       "      <td>0</td>\n",
       "    </tr>\n",
       "    <tr>\n",
       "      <th>4</th>\n",
       "      <td>4</td>\n",
       "      <td>San Francisco-Oakland Bay Bridge</td>\n",
       "      <td>2km SE of Berkeley</td>\n",
       "      <td>I</td>\n",
       "      <td>82</td>\n",
       "      <td>III</td>\n",
       "      <td>4.4</td>\n",
       "      <td>5.4</td>\n",
       "      <td>0</td>\n",
       "      <td>1</td>\n",
       "      <td>0</td>\n",
       "      <td>0</td>\n",
       "    </tr>\n",
       "  </tbody>\n",
       "</table>\n",
       "</div>"
      ],
      "text/plain": [
       "   Unnamed: 0                                     name          equake_near  \\\n",
       "0           0  San Francisco-Oakland Bay Bridge, 1936     1989, Loma Prieta   \n",
       "1           1         San Francisco-Oakland Bay Bridge  Northern California   \n",
       "2           2         San Francisco-Oakland Bay Bridge             Bay Area   \n",
       "3           3         San Francisco-Oakland Bay Bridge    1km N of Piedmont   \n",
       "4           4         San Francisco-Oakland Bay Bridge   2km SE of Berkeley   \n",
       "\n",
       "  material type  age of bridge bridge type  magnitude  \\\n",
       "0             I             53         III        6.9   \n",
       "1             I             57         III        4.7   \n",
       "2             I             67         III        4.0   \n",
       "3             I             79         III        4.0   \n",
       "4             I             82         III        4.4   \n",
       "\n",
       "   d to epicenter in miles  damaged  I  II  III  \n",
       "0                     59.9        1  0   0    1  \n",
       "1                     50.0        0  1   0    0  \n",
       "2                      6.9        0  1   0    0  \n",
       "3                      6.3        0  1   0    0  \n",
       "4                      5.4        0  1   0    0  "
      ]
     },
     "execution_count": 19,
     "metadata": {},
     "output_type": "execute_result"
    }
   ],
   "source": [
    "ds = pd.read_csv('../datasets/equake_clean.csv')\n",
    "ds.head()"
   ]
  },
  {
   "cell_type": "code",
   "execution_count": 20,
   "metadata": {},
   "outputs": [],
   "source": [
    "X = ds.iloc[:, 3:-4].values\n",
    "y = ds.iloc[:, 8: ].values"
   ]
  },
  {
   "cell_type": "code",
   "execution_count": 21,
   "metadata": {
    "scrolled": true
   },
   "outputs": [
    {
     "name": "stdout",
     "output_type": "stream",
     "text": [
      "[['I' 53 'III' 6.9 59.9]\n",
      " ['I' 57 'III' 4.7 50.0]\n",
      " ['I' 67 'III' 4.0 6.9]\n",
      " ...\n",
      " ['I' 17 'I' 6.6 56.3]\n",
      " ['I' 53 'I' 4.5 26.6]\n",
      " ['I' 54 'I' 4.4 45.7]]\n"
     ]
    }
   ],
   "source": [
    "print(X)"
   ]
  },
  {
   "cell_type": "code",
   "execution_count": 22,
   "metadata": {},
   "outputs": [
    {
     "name": "stdout",
     "output_type": "stream",
     "text": [
      "[[1 0 0 1]\n",
      " [0 1 0 0]\n",
      " [0 1 0 0]\n",
      " [0 1 0 0]\n",
      " [0 1 0 0]\n",
      " [0 1 0 0]\n",
      " [0 1 0 0]\n",
      " [0 1 0 0]\n",
      " [0 1 0 0]\n",
      " [0 1 0 0]\n",
      " [0 1 0 0]\n",
      " [0 1 0 0]\n",
      " [0 1 0 0]\n",
      " [1 0 0 1]\n",
      " [0 1 0 0]\n",
      " [0 1 0 0]\n",
      " [0 1 0 0]\n",
      " [0 1 0 0]\n",
      " [0 1 0 0]\n",
      " [0 1 0 0]\n",
      " [0 1 0 0]\n",
      " [0 1 0 0]\n",
      " [0 1 0 0]\n",
      " [1 0 0 1]\n",
      " [0 1 0 0]\n",
      " [0 1 0 0]\n",
      " [0 1 0 0]\n",
      " [0 1 0 0]\n",
      " [0 1 0 0]\n",
      " [0 1 0 0]\n",
      " [0 1 0 0]\n",
      " [0 1 0 0]\n",
      " [0 1 0 0]\n",
      " [1 0 1 0]\n",
      " [0 1 0 0]\n",
      " [0 1 0 0]\n",
      " [0 1 0 0]\n",
      " [0 1 0 0]\n",
      " [0 1 0 0]\n",
      " [0 1 0 0]\n",
      " [0 1 0 0]\n",
      " [0 1 0 0]\n",
      " [0 1 0 0]\n",
      " [1 0 0 1]\n",
      " [0 1 0 0]\n",
      " [0 1 0 0]\n",
      " [0 1 0 0]\n",
      " [0 1 0 0]\n",
      " [1 0 1 0]\n",
      " [0 1 0 0]\n",
      " [0 1 0 0]\n",
      " [0 1 0 0]\n",
      " [0 1 0 0]\n",
      " [0 1 0 0]\n",
      " [0 1 0 0]\n",
      " [0 1 0 0]\n",
      " [0 1 0 0]\n",
      " [1 0 0 1]\n",
      " [0 1 0 0]\n",
      " [0 1 0 0]\n",
      " [0 1 0 0]\n",
      " [0 1 0 0]\n",
      " [0 1 0 0]\n",
      " [0 1 0 0]\n",
      " [0 1 0 0]\n",
      " [0 1 0 0]\n",
      " [0 1 0 0]\n",
      " [0 1 0 0]\n",
      " [1 0 0 1]\n",
      " [0 1 0 0]\n",
      " [0 1 0 0]\n",
      " [0 1 0 0]\n",
      " [0 1 0 0]\n",
      " [0 1 0 0]\n",
      " [0 1 0 0]\n",
      " [0 1 0 0]\n",
      " [0 1 0 0]\n",
      " [0 1 0 0]\n",
      " [1 0 0 1]\n",
      " [0 1 0 0]\n",
      " [0 1 0 0]\n",
      " [0 1 0 0]\n",
      " [0 1 0 0]\n",
      " [0 1 0 0]\n",
      " [0 1 0 0]\n",
      " [0 1 0 0]\n",
      " [0 1 0 0]\n",
      " [0 1 0 0]\n",
      " [0 1 0 0]\n",
      " [1 0 0 1]\n",
      " [0 1 0 0]\n",
      " [0 1 0 0]\n",
      " [0 1 0 0]\n",
      " [0 1 0 0]\n",
      " [0 1 0 0]\n",
      " [0 1 0 0]\n",
      " [0 1 0 0]\n",
      " [0 1 0 0]\n",
      " [0 1 0 0]\n",
      " [0 1 0 0]\n",
      " [1 0 0 1]\n",
      " [0 1 0 0]\n",
      " [0 1 0 0]\n",
      " [0 1 0 0]\n",
      " [0 1 0 0]\n",
      " [0 1 0 0]\n",
      " [0 1 0 0]\n",
      " [0 1 0 0]\n",
      " [0 1 0 0]\n",
      " [0 1 0 0]\n",
      " [0 1 0 0]\n",
      " [0 1 0 0]\n",
      " [0 1 0 0]\n",
      " [0 1 0 0]\n",
      " [0 1 0 0]\n",
      " [1 0 0 1]\n",
      " [0 1 0 0]\n",
      " [0 1 0 0]\n",
      " [0 1 0 0]\n",
      " [0 1 0 0]\n",
      " [0 1 0 0]\n",
      " [0 1 0 0]\n",
      " [0 1 0 0]\n",
      " [0 1 0 0]\n",
      " [0 1 0 0]\n",
      " [0 1 0 0]\n",
      " [0 1 0 0]\n",
      " [0 1 0 0]\n",
      " [0 1 0 0]\n",
      " [0 1 0 0]\n",
      " [1 0 1 0]\n",
      " [0 1 0 0]\n",
      " [0 1 0 0]\n",
      " [0 1 0 0]\n",
      " [0 1 0 0]\n",
      " [0 1 0 0]\n",
      " [0 1 0 0]\n",
      " [0 1 0 0]\n",
      " [0 1 0 0]\n",
      " [0 1 0 0]\n",
      " [0 1 0 0]\n",
      " [0 1 0 0]\n",
      " [0 1 0 0]\n",
      " [0 1 0 0]\n",
      " [0 1 0 0]\n",
      " [1 0 1 0]\n",
      " [0 1 0 0]\n",
      " [0 1 0 0]\n",
      " [0 1 0 0]\n",
      " [0 1 0 0]\n",
      " [0 1 0 0]\n",
      " [0 1 0 0]\n",
      " [0 1 0 0]\n",
      " [0 1 0 0]\n",
      " [0 1 0 0]\n",
      " [0 1 0 0]\n",
      " [0 1 0 0]\n",
      " [0 1 0 0]\n",
      " [0 1 0 0]\n",
      " [0 1 0 0]\n",
      " [1 0 1 0]\n",
      " [0 1 0 0]\n",
      " [0 1 0 0]\n",
      " [0 1 0 0]\n",
      " [0 1 0 0]\n",
      " [0 1 0 0]\n",
      " [0 1 0 0]\n",
      " [0 1 0 0]\n",
      " [0 1 0 0]\n",
      " [0 1 0 0]\n",
      " [0 1 0 0]\n",
      " [1 0 1 0]\n",
      " [1 0 1 0]\n",
      " [0 1 0 0]\n",
      " [0 1 0 0]\n",
      " [0 1 0 0]\n",
      " [0 1 0 0]\n",
      " [0 1 0 0]\n",
      " [0 1 0 0]\n",
      " [0 1 0 0]\n",
      " [0 1 0 0]\n",
      " [0 1 0 0]\n",
      " [0 1 0 0]\n",
      " [0 1 0 0]\n",
      " [0 1 0 0]\n",
      " [0 1 0 0]\n",
      " [0 1 0 0]\n",
      " [0 1 0 0]\n",
      " [0 1 0 0]\n",
      " [1 0 1 0]\n",
      " [0 1 0 0]\n",
      " [0 1 0 0]\n",
      " [0 1 0 0]\n",
      " [0 1 0 0]\n",
      " [0 1 0 0]\n",
      " [0 1 0 0]\n",
      " [0 1 0 0]\n",
      " [0 1 0 0]\n",
      " [0 1 0 0]\n",
      " [0 1 0 0]\n",
      " [0 1 0 0]\n",
      " [0 1 0 0]\n",
      " [0 1 0 0]\n",
      " [1 0 1 0]\n",
      " [0 1 0 0]\n",
      " [0 1 0 0]\n",
      " [0 1 0 0]\n",
      " [0 1 0 0]\n",
      " [0 1 0 0]\n",
      " [0 1 0 0]\n",
      " [0 1 0 0]\n",
      " [0 1 0 0]\n",
      " [0 1 0 0]\n",
      " [0 1 0 0]\n",
      " [0 1 0 0]\n",
      " [0 1 0 0]\n",
      " [0 1 0 0]\n",
      " [0 1 0 0]\n",
      " [0 1 0 0]\n",
      " [1 0 1 0]\n",
      " [0 1 0 0]\n",
      " [0 1 0 0]\n",
      " [0 1 0 0]\n",
      " [0 1 0 0]\n",
      " [0 1 0 0]\n",
      " [0 1 0 0]\n",
      " [0 1 0 0]\n",
      " [0 1 0 0]\n",
      " [0 1 0 0]\n",
      " [0 1 0 0]\n",
      " [0 1 0 0]\n",
      " [0 1 0 0]\n",
      " [0 1 0 0]\n",
      " [0 1 0 0]\n",
      " [1 0 1 0]\n",
      " [0 1 0 0]\n",
      " [0 1 0 0]\n",
      " [0 1 0 0]\n",
      " [0 1 0 0]\n",
      " [0 1 0 0]\n",
      " [0 1 0 0]\n",
      " [0 1 0 0]\n",
      " [0 1 0 0]\n",
      " [0 1 0 0]\n",
      " [0 1 0 0]\n",
      " [0 1 0 0]\n",
      " [0 1 0 0]\n",
      " [0 1 0 0]\n",
      " [0 1 0 0]]\n"
     ]
    }
   ],
   "source": [
    "print(y)"
   ]
  },
  {
   "cell_type": "code",
   "execution_count": 23,
   "metadata": {},
   "outputs": [],
   "source": [
    "from sklearn.compose import ColumnTransformer\n",
    "from sklearn.preprocessing import OneHotEncoder\n",
    "ct = ColumnTransformer(transformers=[('encoder', OneHotEncoder(), [0, 2])], remainder='passthrough')\n",
    "X = np.array(ct.fit_transform(X))"
   ]
  },
  {
   "cell_type": "code",
   "execution_count": 24,
   "metadata": {},
   "outputs": [
    {
     "name": "stdout",
     "output_type": "stream",
     "text": [
      "[[1.0 0.0 0.0 ... 53 6.9 59.9]\n",
      " [1.0 0.0 0.0 ... 57 4.7 50.0]\n",
      " [1.0 0.0 0.0 ... 67 4.0 6.9]\n",
      " ...\n",
      " [1.0 0.0 1.0 ... 17 6.6 56.3]\n",
      " [1.0 0.0 1.0 ... 53 4.5 26.6]\n",
      " [1.0 0.0 1.0 ... 54 4.4 45.7]]\n"
     ]
    }
   ],
   "source": [
    "print(X)"
   ]
  },
  {
   "cell_type": "code",
   "execution_count": 25,
   "metadata": {},
   "outputs": [],
   "source": [
    "from sklearn.model_selection import train_test_split\n",
    "X_train, X_test, y_train, y_test = train_test_split(X, y, test_size = 0.25, random_state = 0)"
   ]
  },
  {
   "cell_type": "code",
   "execution_count": 26,
   "metadata": {},
   "outputs": [],
   "source": [
    "from sklearn.preprocessing import StandardScaler\n",
    "sc = StandardScaler()\n",
    "X_train = sc.fit_transform(X_train)\n",
    "X_test = sc.transform(X_test)"
   ]
  },
  {
   "cell_type": "code",
   "execution_count": 27,
   "metadata": {},
   "outputs": [
    {
     "name": "stdout",
     "output_type": "stream",
     "text": [
      "[[ 0.88795357 -0.88795357 -1.82361767 ...  1.68284273 -1.24284247\n",
      "   1.37193343]\n",
      " [ 0.88795357 -0.88795357 -1.82361767 ...  1.99041766  1.72421521\n",
      "   2.80101334]\n",
      " [-1.12618501  1.12618501  0.54836056 ... -0.00881935  1.3751496\n",
      "  -0.51252686]\n",
      " ...\n",
      " [ 0.88795357 -0.88795357 -1.82361767 ... -0.82901915 -0.80651046\n",
      "  -0.8679457 ]\n",
      " [-1.12618501  1.12618501  0.54836056 ... -1.18785656 -0.98104327\n",
      "  -0.95309813]\n",
      " [-1.12618501  1.12618501  0.54836056 ... -0.72649418  2.24781362\n",
      "   1.01281232]]\n"
     ]
    }
   ],
   "source": [
    "print(X_train)"
   ]
  },
  {
   "cell_type": "code",
   "execution_count": 28,
   "metadata": {},
   "outputs": [
    {
     "data": {
      "text/plain": [
       "DecisionTreeClassifier(ccp_alpha=0.0, class_weight=None, criterion='entropy',\n",
       "                       max_depth=None, max_features=None, max_leaf_nodes=None,\n",
       "                       min_impurity_decrease=0.0, min_impurity_split=None,\n",
       "                       min_samples_leaf=1, min_samples_split=2,\n",
       "                       min_weight_fraction_leaf=0.0, presort='deprecated',\n",
       "                       random_state=0, splitter='best')"
      ]
     },
     "execution_count": 28,
     "metadata": {},
     "output_type": "execute_result"
    }
   ],
   "source": [
    "from sklearn.tree import DecisionTreeClassifier\n",
    "classifier = DecisionTreeClassifier(criterion = 'entropy', random_state = 0)\n",
    "classifier.fit(X_train, y_train)"
   ]
  },
  {
   "cell_type": "code",
   "execution_count": 29,
   "metadata": {},
   "outputs": [],
   "source": [
    "y_pred = classifier.predict(X_test)"
   ]
  },
  {
   "cell_type": "code",
   "execution_count": 50,
   "metadata": {},
   "outputs": [
    {
     "data": {
      "text/plain": [
       "[Text(289.33333333333337, 362.6666666666667, 'X[7] <= 1.244\\nentropy = 0.323\\nsamples = 186\\nvalue = [[171, 15]\\n[15, 171]\\n[180, 6]\\n[177, 9]]'),\n",
       " Text(248.0, 320.0, 'entropy = 0.0\\nsamples = 160\\nvalue = [[160, 0]\\n[0, 160]\\n[160, 0]\\n[160, 0]]'),\n",
       " Text(330.6666666666667, 320.0, 'X[8] <= 1.731\\nentropy = 0.919\\nsamples = 26\\nvalue = [[11, 15]\\n[15, 11]\\n[20, 6]\\n[17, 9]]'),\n",
       " Text(248.0, 277.33333333333337, 'X[7] <= 1.899\\nentropy = 0.76\\nsamples = 16\\nvalue = [[2, 14]\\n[14, 2]\\n[10, 6]\\n[8, 8]]'),\n",
       " Text(206.66666666666669, 234.66666666666669, 'X[7] <= 1.462\\nentropy = 0.717\\nsamples = 12\\nvalue = [[2, 10]\\n[10, 2]\\n[10, 2]\\n[4, 8]]'),\n",
       " Text(165.33333333333334, 192.0, 'X[8] <= -0.674\\nentropy = 0.821\\nsamples = 9\\nvalue = [[2, 7]\\n[7, 2]\\n[7, 2]\\n[4, 5]]'),\n",
       " Text(82.66666666666667, 149.33333333333334, 'X[8] <= -0.816\\nentropy = 0.361\\nsamples = 5\\nvalue = [[0, 5]\\n[5, 0]\\n[4, 1]\\n[1, 4]]'),\n",
       " Text(41.333333333333336, 106.66666666666669, 'entropy = 0.0\\nsamples = 3\\nvalue = [[0, 3]\\n[3, 0]\\n[3, 0]\\n[0, 3]]'),\n",
       " Text(124.0, 106.66666666666669, 'X[6] <= -0.573\\nentropy = 0.5\\nsamples = 2\\nvalue = [[0, 2]\\n[2, 0]\\n[1, 1]\\n[1, 1]]'),\n",
       " Text(82.66666666666667, 64.0, 'entropy = 0.0\\nsamples = 1\\nvalue = [[0, 1]\\n[1, 0]\\n[1, 0]\\n[0, 1]]'),\n",
       " Text(165.33333333333334, 64.0, 'entropy = 0.0\\nsamples = 1\\nvalue = [[0, 1]\\n[1, 0]\\n[0, 1]\\n[1, 0]]'),\n",
       " Text(248.0, 149.33333333333334, 'X[6] <= -0.342\\nentropy = 0.906\\nsamples = 4\\nvalue = [[2, 2]\\n[2, 2]\\n[3, 1]\\n[3, 1]]'),\n",
       " Text(206.66666666666669, 106.66666666666669, 'entropy = 0.0\\nsamples = 1\\nvalue = [[1, 0]\\n[0, 1]\\n[1, 0]\\n[1, 0]]'),\n",
       " Text(289.33333333333337, 106.66666666666669, 'X[6] <= 0.606\\nentropy = 0.918\\nsamples = 3\\nvalue = [[1, 2]\\n[2, 1]\\n[2, 1]\\n[2, 1]]'),\n",
       " Text(248.0, 64.0, 'X[6] <= 0.171\\nentropy = 0.5\\nsamples = 2\\nvalue = [[0, 2]\\n[2, 0]\\n[1, 1]\\n[1, 1]]'),\n",
       " Text(206.66666666666669, 21.33333333333337, 'entropy = 0.0\\nsamples = 1\\nvalue = [[0, 1]\\n[1, 0]\\n[0, 1]\\n[1, 0]]'),\n",
       " Text(289.33333333333337, 21.33333333333337, 'entropy = 0.0\\nsamples = 1\\nvalue = [[0, 1]\\n[1, 0]\\n[1, 0]\\n[0, 1]]'),\n",
       " Text(330.6666666666667, 64.0, 'entropy = 0.0\\nsamples = 1\\nvalue = [[1, 0]\\n[0, 1]\\n[1, 0]\\n[1, 0]]'),\n",
       " Text(248.0, 192.0, 'entropy = 0.0\\nsamples = 3\\nvalue = [[0, 3]\\n[3, 0]\\n[3, 0]\\n[0, 3]]'),\n",
       " Text(289.33333333333337, 234.66666666666669, 'entropy = 0.0\\nsamples = 4\\nvalue = [[0, 4]\\n[4, 0]\\n[0, 4]\\n[4, 0]]'),\n",
       " Text(413.33333333333337, 277.33333333333337, 'X[7] <= 2.902\\nentropy = 0.352\\nsamples = 10\\nvalue = [[9, 1]\\n[1, 9]\\n[10, 0]\\n[9, 1]]'),\n",
       " Text(372.0, 234.66666666666669, 'entropy = 0.0\\nsamples = 9\\nvalue = [[9, 0]\\n[0, 9]\\n[9, 0]\\n[9, 0]]'),\n",
       " Text(454.6666666666667, 234.66666666666669, 'entropy = 0.0\\nsamples = 1\\nvalue = [[0, 1]\\n[1, 0]\\n[1, 0]\\n[0, 1]]')]"
      ]
     },
     "execution_count": 50,
     "metadata": {},
     "output_type": "execute_result"
    },
    {
     "data": {
      "image/png": "[encoded data removed]",
      "text/plain": [
       "<Figure size 640x480 with 1 Axes>"
      ]
     },
     "metadata": {},
     "output_type": "display_data"
    }
   ],
   "source": [
    "from sklearn import tree\n",
    "\n",
    "tree.plot_tree(classifier, filled = True, rounded = True)"
   ]
  },
  {
   "cell_type": "code",
   "execution_count": 42,
   "metadata": {},
   "outputs": [
    {
     "data": {
      "text/plain": [
       "['bmh',\n",
       " 'classic',\n",
       " 'dark_background',\n",
       " 'fast',\n",
       " 'fivethirtyeight',\n",
       " 'ggplot',\n",
       " 'grayscale',\n",
       " 'seaborn-bright',\n",
       " 'seaborn-colorblind',\n",
       " 'seaborn-dark-palette',\n",
       " 'seaborn-dark',\n",
       " 'seaborn-darkgrid',\n",
       " 'seaborn-deep',\n",
       " 'seaborn-muted',\n",
       " 'seaborn-notebook',\n",
       " 'seaborn-paper',\n",
       " 'seaborn-pastel',\n",
       " 'seaborn-poster',\n",
       " 'seaborn-talk',\n",
       " 'seaborn-ticks',\n",
       " 'seaborn-white',\n",
       " 'seaborn-whitegrid',\n",
       " 'seaborn',\n",
       " 'Solarize_Light2',\n",
       " 'tableau-colorblind10',\n",
       " '_classic_test']"
      ]
     },
     "execution_count": 42,
     "metadata": {},
     "output_type": "execute_result"
    }
   ],
   "source": [
    "plt.style.available\n"
   ]
  },
  {
   "cell_type": "code",
   "execution_count": 49,
   "metadata": {},
   "outputs": [],
   "source": [
    "plt.style.use('bmh')"
   ]
  },
  {
   "cell_type": "code",
   "execution_count": 31,
   "metadata": {},
   "outputs": [
    {
     "data": {
      "text/plain": [
       "0.942512077294686"
      ]
     },
     "execution_count": 31,
     "metadata": {},
     "output_type": "execute_result"
    }
   ],
   "source": [
    "from sklearn.metrics import precision_score\n",
    "precision_score(y_test, y_pred, average='weighted')"
   ]
  },
  {
   "cell_type": "code",
   "execution_count": 32,
   "metadata": {},
   "outputs": [
    {
     "data": {
      "text/plain": [
       "0.9269323671497585"
      ]
     },
     "execution_count": 32,
     "metadata": {},
     "output_type": "execute_result"
    }
   ],
   "source": [
    "from sklearn.metrics import f1_score\n",
    "f1_score(y_test, y_pred, average='weighted')"
   ]
  },
  {
   "cell_type": "code",
   "execution_count": null,
   "metadata": {},
   "outputs": [],
   "source": [
    "from sklearn.metrics import recall_score\n",
    "recall_score(y_test, y_pred, average='weighted')"
   ]
  },
  {
   "cell_type": "code",
   "execution_count": null,
   "metadata": {},
   "outputs": [],
   "source": []
  },
  {
   "cell_type": "code",
   "execution_count": null,
   "metadata": {},
   "outputs": [],
   "source": []
  },
  {
   "cell_type": "code",
   "execution_count": null,
   "metadata": {},
   "outputs": [],
   "source": []
  }
 ],
 "metadata": {
  "kernelspec": {
   "display_name": "Python 3",
   "language": "python",
   "name": "python3"
  },
  "language_info": {
   "codemirror_mode": {
    "name": "ipython",
    "version": 3
   },
   "file_extension": ".py",
   "mimetype": "text/x-python",
   "name": "python",
   "nbconvert_exporter": "python",
   "pygments_lexer": "ipython3",
   "version": "3.7.6"
  }
 },
 "nbformat": 4,
 "nbformat_minor": 4
}
